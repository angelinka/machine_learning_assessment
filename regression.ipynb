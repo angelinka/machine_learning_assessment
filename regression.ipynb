{
 "cells": [
  {
   "cell_type": "markdown",
   "id": "bd7f592f",
   "metadata": {},
   "source": [
    "# Machine Learning and Statistics Assignment 2023\n",
    "***\n",
    "## Linear regression."
   ]
  },
  {
   "cell_type": "markdown",
   "id": "8696657c",
   "metadata": {},
   "source": [
    "### Objectives of this notebook:\n",
    "1. Show how scipy.stats can be used to perform linear regression.\n",
    "2. Find an appropriate data set online or elsewhere on which to perform linear regression.\n",
    "3. Demonstrate how to perform linear regression on the data set."
   ]
  },
  {
   "cell_type": "markdown",
   "id": "105e7532",
   "metadata": {},
   "source": [
    "## Introduction\n",
    "***\n",
    "Regression analysis is one of the most important fields in statistics and machine learning. \n",
    "Regression searches for relationships among variables. Generally, in regression analysis, you consider some phenomenon of interest and have a number of observations. Each observation has two or more features. Following the assumption that at least one of the features depends on the others, you try to establish a relation among them.[1]\n",
    "\n",
    "Linear regression is one of the simplest and widely used regression techniques. There are two kinds of Linear Regression Model:<br>\n",
    "-\tSimple Linear Regression: A linear regression model with one independent and one dependent variable.<br>\n",
    "-\tMultiple Linear Regression: A linear regression model with more than one independent variable and one dependent variable."
   ]
  },
  {
   "cell_type": "markdown",
   "id": "278d0a05",
   "metadata": {},
   "source": [
    "![simple and multipleregression ](img/regr.svg)"
   ]
  },
  {
   "cell_type": "markdown",
   "id": "85b56714",
   "metadata": {},
   "source": [
    "Linear regression is used in many different fields including economics, computer science, and the social sciences. Here are some examples:\n",
    "* Can be used to predict what the price of a product will be in the future, whether prices will go up or down.\n",
    "* Can be used to determine the economic growth of a country or a state in the upcoming quarter. It can also be used to predict a nation’s gross domestic product (GDP).\n",
    "* Predicting the salary of a person based on years of experience \n",
    "\n",
    "Simple linear regression is used to model the relationship between two continuous variables. we try to find the relationship between a single independent variable (input) and a corresponding dependent variable (output). This can be expressed in the form of a straight line. \n",
    "\n",
    "$Y = \\beta_0 + \\beta_1X + \\epsilon$\n",
    "\n",
    "1. Y represents the output or dependent variable.\n",
    "2. $\\beta_0$ and $\\beta_1$ are two unknown constants that represent the intercept and coefficient (slope) respectively.\n",
    "3. $\\epsilon$ (Epsilon) is the error term."
   ]
  },
  {
   "cell_type": "code",
   "execution_count": null,
   "id": "ebd55317",
   "metadata": {},
   "outputs": [],
   "source": []
  },
  {
   "cell_type": "code",
   "execution_count": null,
   "id": "e9ff1d22",
   "metadata": {},
   "outputs": [],
   "source": []
  },
  {
   "cell_type": "code",
   "execution_count": null,
   "id": "e1658c6f",
   "metadata": {},
   "outputs": [],
   "source": []
  },
  {
   "cell_type": "markdown",
   "id": "b11e6bb2",
   "metadata": {},
   "source": [
    "## References\n",
    "***\n",
    "1. https://realpython.com/linear-regression-in-python/#linear-regression\n"
   ]
  },
  {
   "cell_type": "markdown",
   "id": "c401654c",
   "metadata": {},
   "source": [
    "## End"
   ]
  }
 ],
 "metadata": {
  "kernelspec": {
   "display_name": "Python 3 (ipykernel)",
   "language": "python",
   "name": "python3"
  },
  "language_info": {
   "codemirror_mode": {
    "name": "ipython",
    "version": 3
   },
   "file_extension": ".py",
   "mimetype": "text/x-python",
   "name": "python",
   "nbconvert_exporter": "python",
   "pygments_lexer": "ipython3",
   "version": "3.8.17"
  }
 },
 "nbformat": 4,
 "nbformat_minor": 5
}
