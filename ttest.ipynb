{
 "cells": [
  {
   "cell_type": "markdown",
   "metadata": {},
   "source": [
    "# Machine Learning and Statistics Assignment\n",
    "***\n",
    "## Paired samples t-test.\n"
   ]
  },
  {
   "cell_type": "markdown",
   "metadata": {},
   "source": [
    "### Objectives of this notebook:\n",
    "1. Show how scipy.stats can be used to perform a paired samples t-test.\n",
    "2. Find an appropriate data set online or elsewhere on which to perform a paired samples t-test.\n",
    "3. Demonstrate how to perform a t-test on the data set."
   ]
  },
  {
   "cell_type": "markdown",
   "metadata": {},
   "source": [
    "## Introduction\n",
    "***\n",
    "`scipy.stats` is the SciPy sub-package which is mainly used for probabilistic distributions and statistical operations. SciPy stands for Scientific Python it is a very powerful open-source library and it's being used to perform  mathematical, scientific and engineering computations. It is build upon `NumPy` library and was created by the same person who created NumPy - Travis Olliphant with help from the open source community. \n",
    "\n",
    "Scipy.stats \"*contains a large number of probability distributions, summary and frequency statistics, correlation functions and statistical tests, masked statistics, kernel density estimation, quasi-Monte Carlo functionality, and more.\"* [1]"
   ]
  },
  {
   "cell_type": "markdown",
   "metadata": {},
   "source": [
    "### T-test\n",
    "\n",
    "<p><img src=\"https://upload.wikimedia.org/wikipedia/commons/4/42/William_Sealy_Gosset.jpg\" alt=\"William Sealy Gosset.jpg\" style=\"float: right;\" height=\"600\" width=\"250\"><br></p>\n",
    "\n",
    "\"*A t-test is a type of statistical analysis used to compare the averages of two groups and determine if the differences between them are more likely to arise from random chance.\"* [2] \n",
    "\n",
    "It was was developed by William Sealy Gosset in 1908 as Student’s t-test. He published his work under the pseudonym “Student”. The purpose of the test is to compare the means of one or two related or unrelated sample groups. A t-test may be used to evaluate whether\n",
    "- a single group differs from a known value (a one-sample t-test), \n",
    "- two groups differ from each other (an independent two-sample t-test), \n",
    "- there is a significant difference in paired measurements (a paired, or dependent samples t-test). [3]\n",
    "\n",
    "If more than two groups need to be compared, multiple comparison method needs to be used such as ANOVA."
   ]
  },
  {
   "cell_type": "markdown",
   "metadata": {},
   "source": [
    "**t-Test assumptions**\n",
    "\n",
    "- Data values are independent and continuous.\n",
    "- Data has been randomly sampled from a population.\n",
    "- There is homogeneity of variance (i.e., the variability of the data in each group is similar). Samples have almost equal standard deviation (applicable for a two-sample t-test)\n",
    "- Data distribution is approximately normal."
   ]
  },
  {
   "cell_type": "code",
   "execution_count": null,
   "metadata": {},
   "outputs": [],
   "source": []
  },
  {
   "cell_type": "code",
   "execution_count": null,
   "metadata": {},
   "outputs": [],
   "source": []
  },
  {
   "cell_type": "code",
   "execution_count": null,
   "metadata": {},
   "outputs": [],
   "source": []
  },
  {
   "cell_type": "code",
   "execution_count": null,
   "metadata": {},
   "outputs": [],
   "source": []
  },
  {
   "cell_type": "markdown",
   "metadata": {},
   "source": [
    "## References\n",
    "\n",
    "1. https://docs.scipy.org/doc/scipy/reference/stats.html#module-scipy.stats <br>\n",
    "2. https://en.wikipedia.org/wiki/Student%27s_t-test  <br>\n",
    "3. https://www.jmp.com/en_nl/statistics-knowledge-portal/t-test.html"
   ]
  },
  {
   "cell_type": "markdown",
   "metadata": {},
   "source": [
    "## End"
   ]
  }
 ],
 "metadata": {
  "kernelspec": {
   "display_name": "Python 3",
   "language": "python",
   "name": "python3"
  },
  "language_info": {
   "codemirror_mode": {
    "name": "ipython",
    "version": 3
   },
   "file_extension": ".py",
   "mimetype": "text/x-python",
   "name": "python",
   "nbconvert_exporter": "python",
   "pygments_lexer": "ipython3",
   "version": "3.8.5"
  }
 },
 "nbformat": 4,
 "nbformat_minor": 4
}
