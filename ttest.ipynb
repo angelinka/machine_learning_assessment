{
 "cells": [
  {
   "cell_type": "markdown",
   "metadata": {},
   "source": [
    "# Machine Learning and Statistics Assignment\n",
    "***\n",
    "## Paired samples t-test.\n"
   ]
  },
  {
   "cell_type": "markdown",
   "metadata": {},
   "source": [
    "### Objectives of this notebook:\n",
    "1. Show how scipy.stats can be used to perform a paired samples t-test.\n",
    "2. Find an appropriate data set online or elsewhere on which to perform a paired samples t-test.\n",
    "3. Demonstrate how to perform a t-test on the data set."
   ]
  },
  {
   "cell_type": "markdown",
   "metadata": {},
   "source": [
    "## Introduction\n",
    "***\n",
    "`scipy.stats` is the SciPy sub-package which is mainly used for probabilistic distributions and statistical operations. SciPy stands for Scientific Python it is a very powerful open-source library and it's being used to perform  mathematical, scientific and engineering computations. It is build upon `NumPy` library and was created by the same person who created NumPy - Travis Olliphant with help from the open source community. \n",
    "\n",
    "Scipy.stats \"*contains a large number of probability distributions, summary and frequency statistics, correlation functions and statistical tests, masked statistics, kernel density estimation, quasi-Monte Carlo functionality, and more.\"* [1]"
   ]
  },
  {
   "cell_type": "markdown",
   "metadata": {},
   "source": [
    "### T-test\n",
    "\n",
    "<p><img src=\"https://upload.wikimedia.org/wikipedia/commons/4/42/William_Sealy_Gosset.jpg\" alt=\"William Sealy Gosset.jpg\" style=\"float: right;\" height=\"600\" width=\"250\"><br></p>\n",
    "\n",
    "\"*A t-test is a type of statistical analysis used to compare the averages of two groups and determine if the differences between them are more likely to arise from random chance.\"* [2] \n",
    "\n",
    "It was developed by William Sealy Gosset in 1908 as Student’s t-test. He published his work under the pseudonym “Student”. The purpose of the test is to compare the means of one or two related or unrelated sample groups. A t-test may be used to evaluate whether\n",
    "- a single group differs from a known value (a one-sample t-test), \n",
    "- two groups differ from each other (an independent two-sample t-test), \n",
    "- there is a significant difference in paired measurements (a paired, or dependent samples t-test). [3]\n",
    "\n",
    "If more than two groups need to be compared, multiple comparison method needs to be used such as ANOVA.\n",
    "\n",
    "**t-Test assumptions**\n",
    "\n",
    "- Data values are independent and continuous.\n",
    "- Data has been randomly sampled from a population.\n",
    "- There is homogeneity of variance (i.e., the variability of the data in each group is similar). Samples have almost equal standard deviation (applicable for a two-sample t-test)\n",
    "- Data distribution is approximately normal. [4]\n",
    "\n",
    "**Performing t-test**\n",
    "1. State a hypothesis. A hypothesis is classified as a null hypothesis ($H_0$) and an alternative hypothesis ($Ha$) that rejects the null hypothesis.\n",
    "2. Collect sample data.\n",
    "3. Conduct the test.\n",
    "4. Reject or fail to reject your null hypothesis $H_0$."
   ]
  },
  {
   "cell_type": "markdown",
   "metadata": {},
   "source": [
    "### Paired Sample T-Test\n",
    "<p><img src=\"https://i0.wp.com/thedatascientist.com/wp-content/uploads/2022/06/paired-t-test.png?ssl=1\" alt=\"T-test.png\"  height=\"800\" width=\"650\"><br></p>\n",
    "<p style=\"text-align: center;\">Img taken from thedatascientist.com</p><br>"
   ]
  },
  {
   "cell_type": "markdown",
   "metadata": {},
   "source": [
    "As mentioned above for the purposes of this assessment we are going to focus on **Paired Sample T-Test**\n",
    "The paired sample t-test is also called dependent sample t-test. It’s an univariate test that tests for a significant difference between two related variables. \n",
    "It is used to compare two population means where you have two samples in which observations in one sample can be pared with observations in the over sample. An example of this is before and after observations on the same subject: \n",
    "\n",
    "- student's diagnostic test results before and after particular course, \n",
    "- comparing the average price of a product before and after a price change to measure the effect of the change on sales,\n",
    "- before-and-after treatment measurements for a group of people.\n",
    "\n",
    "### Hypotheses\n",
    "\n",
    "1. Null hypotheses $H_0$: the true mean difference is equal to zero (between the observations). Meaning that if we run this test on a large number of samples from the population we would expect most of them to have mean paired differences close to zero (most samples would have small positive or negative differences between their values).\n",
    "\n",
    "2. Alternative hypotheses $Ha$: the true mean difference is not equal to zero (two-tailed). This means an effect is observed— something has changed from one sample set to another or one group to another. [5]\n",
    "\n",
    "### T-statistics formula\n",
    "Let's have a look at *t-statistics formula for Paired Sample T-Test*:\n"
   ]
  },
  {
   "cell_type": "markdown",
   "metadata": {},
   "source": [
    "$$ t=  \\frac{\\bar d}{\\frac{\\bar s_d} {\\sqrt{n}}} $$"
   ]
  },
  {
   "cell_type": "markdown",
   "metadata": {},
   "source": [
    "T = (mean difference between pairs) / (standard deviation of differences / square root of sample size)\n",
    "\n",
    "We can compute the p-value corresponding to the absolute value of the t-test statistics (|t|) for the degrees of freedom `(df): df=n−1`<br>\n",
    "If the p-value is inferior or equal to 0.05, we can conclude that the difference between the two paired samples are significantly different.\n",
    "\n",
    "### Paired T-test using Scipy.stats\n",
    "Taken from [docs.scipy.org](https://docs.scipy.org/doc/scipy/reference/generated/scipy.stats.ttest_rel.html)\n",
    "\n",
    "`scipy.stats.ttest_rel(a, b, axis=0, nan_policy='propagate', alternative='two-sided', *, keepdims=False)`\n",
    "\n",
    " *Parameters*<br>\n",
    "    **a, b** : array_like<br>\n",
    "       &emsp; The arrays must have the same shape.<br>\n",
    "    **axis** : int or None, default: 0<br>\n",
    "        &emsp; Axis along which to compute test. If None, compute over the whole arrays, `a`, and `b`.<br>\n",
    "    **nan_policy** : {'propagate', 'raise', 'omit'}, optional<br>\n",
    "       &emsp; Defines how to handle when input contains nan.\n",
    "        The following options are available (default is 'propagate'):<br>\n",
    "         &emsp;&emsp; - propagate: returns nan<br>\n",
    "         &emsp;&emsp; - raise: throws an error<br>\n",
    "         &emsp;&emsp; - omit: performs the calculations ignoring nan values<br>\n",
    "    **alternative** : {'two-sided', 'less', 'greater'}, optional<br>\n",
    "       &emsp; Defines the alternative hypothesis.\n",
    "     The following options are available (default is 'two-sided'):<br>\n",
    "       &emsp;&emsp; - two-sided: the means of the distributions underlying the samples are unequal.<br>\n",
    "       &emsp;&emsp; - less: the mean of the distribution underlying the first sample\n",
    "        is less than the mean of the distribution underlying the secondbsample.<br>\n",
    "       &emsp;&emsp; - greater: the mean of the distribution underlying the first\n",
    "        sample is greater than the mean of the distribution underlying the second sample.<br>\n",
    "    **keepdims** : bool, default: False<br>\n",
    "    &emsp;If this is set to True, the axes which are reduced are left in the result as dimensions with size one. With this option, the result will broadcast correctly against the input array.<br>\n",
    "    *Returns*<br>\n",
    "    **result: TtestResult**\n",
    "    An object with the following attributes:<br>\n",
    "        &emsp;&emsp; - statistic : float or array<br>\n",
    "        &emsp;&emsp;    The t-statistic.<br>\n",
    "        &emsp;&emsp; - pvalue : float or array<br>\n",
    "        &emsp;&emsp;    The p-value associated with the given alternative.<br>\n",
    "        &emsp;&emsp; - df : float or array<br>\n",
    "        &emsp;&emsp;    The number of degrees of freedom used in calculation of the\n",
    "            t-statistic; this is one less than the size of the sample\n",
    "            (`a.shape[axis]`).<br>\n",
    " The object also has the following method:<br>\n",
    "        `confidence_interval(confidence_level=0.95)`<br>\n",
    "             &emsp;&emsp;Computes a confidence interval around the difference in\n",
    "            population means for the given confidence level.\n",
    "            The confidence interval is returned in a namedtuple with\n",
    "            fields `low` and `high`."
   ]
  },
  {
   "cell_type": "markdown",
   "metadata": {},
   "source": [
    "### Examples\n",
    "***\n",
    "#### Example 1\n",
    "Now let's have a look at some examples how to perform t-test. Our first dataset (taken from [here](https://github.com/Opensourcefordatascience/Data-sets/blob/master/blood_pressure.csv)) contains blood pressure readings before and after an intervention. These are variables “bp_before” and “bp_after”. \n",
    "\n",
    "To check how the data looks like we going to import pandas"
   ]
  },
  {
   "cell_type": "code",
   "execution_count": 1,
   "metadata": {},
   "outputs": [
    {
     "name": "stdout",
     "output_type": "stream",
     "text": [
      "<class 'pandas.core.frame.DataFrame'>\n",
      "RangeIndex: 120 entries, 0 to 119\n",
      "Data columns (total 5 columns):\n",
      " #   Column     Non-Null Count  Dtype \n",
      "---  ------     --------------  ----- \n",
      " 0   patient    120 non-null    int64 \n",
      " 1   sex        120 non-null    object\n",
      " 2   agegrp     120 non-null    object\n",
      " 3   bp_before  120 non-null    int64 \n",
      " 4   bp_after   120 non-null    int64 \n",
      "dtypes: int64(3), object(2)\n",
      "memory usage: 4.8+ KB\n"
     ]
    }
   ],
   "source": [
    "# Data frames\n",
    "import pandas as pd\n",
    "\n",
    "# reading data from the file\n",
    "df = pd.read_csv(\"data/blood_pressure.csv\")\n",
    "df.info()"
   ]
  },
  {
   "cell_type": "markdown",
   "metadata": {},
   "source": [
    "Above, we can see the structure of the dataframe. Our dataset contains 120 observations and five variables (columns). Furthermore, there are two different datatypes in the dataframe - int64 and object. \n",
    "Here is how the top five rows from our table look:"
   ]
  },
  {
   "cell_type": "code",
   "execution_count": 2,
   "metadata": {},
   "outputs": [
    {
     "data": {
      "text/html": [
       "<div>\n",
       "<style scoped>\n",
       "    .dataframe tbody tr th:only-of-type {\n",
       "        vertical-align: middle;\n",
       "    }\n",
       "\n",
       "    .dataframe tbody tr th {\n",
       "        vertical-align: top;\n",
       "    }\n",
       "\n",
       "    .dataframe thead th {\n",
       "        text-align: right;\n",
       "    }\n",
       "</style>\n",
       "<table border=\"1\" class=\"dataframe\">\n",
       "  <thead>\n",
       "    <tr style=\"text-align: right;\">\n",
       "      <th></th>\n",
       "      <th>patient</th>\n",
       "      <th>sex</th>\n",
       "      <th>agegrp</th>\n",
       "      <th>bp_before</th>\n",
       "      <th>bp_after</th>\n",
       "    </tr>\n",
       "  </thead>\n",
       "  <tbody>\n",
       "    <tr>\n",
       "      <th>0</th>\n",
       "      <td>1</td>\n",
       "      <td>Male</td>\n",
       "      <td>30-45</td>\n",
       "      <td>143</td>\n",
       "      <td>153</td>\n",
       "    </tr>\n",
       "    <tr>\n",
       "      <th>1</th>\n",
       "      <td>2</td>\n",
       "      <td>Male</td>\n",
       "      <td>30-45</td>\n",
       "      <td>163</td>\n",
       "      <td>170</td>\n",
       "    </tr>\n",
       "    <tr>\n",
       "      <th>2</th>\n",
       "      <td>3</td>\n",
       "      <td>Male</td>\n",
       "      <td>30-45</td>\n",
       "      <td>153</td>\n",
       "      <td>168</td>\n",
       "    </tr>\n",
       "    <tr>\n",
       "      <th>3</th>\n",
       "      <td>4</td>\n",
       "      <td>Male</td>\n",
       "      <td>30-45</td>\n",
       "      <td>153</td>\n",
       "      <td>142</td>\n",
       "    </tr>\n",
       "    <tr>\n",
       "      <th>4</th>\n",
       "      <td>5</td>\n",
       "      <td>Male</td>\n",
       "      <td>30-45</td>\n",
       "      <td>146</td>\n",
       "      <td>141</td>\n",
       "    </tr>\n",
       "  </tbody>\n",
       "</table>\n",
       "</div>"
      ],
      "text/plain": [
       "   patient   sex agegrp  bp_before  bp_after\n",
       "0        1  Male  30-45        143       153\n",
       "1        2  Male  30-45        163       170\n",
       "2        3  Male  30-45        153       168\n",
       "3        4  Male  30-45        153       142\n",
       "4        5  Male  30-45        146       141"
      ]
     },
     "execution_count": 2,
     "metadata": {},
     "output_type": "execute_result"
    }
   ],
   "source": [
    "df.head()"
   ]
  },
  {
   "cell_type": "markdown",
   "metadata": {},
   "source": [
    "As we are primarely interested in data from colums “bp_before” and “bp_after” for our analysis, let's group the together and get some descriptive statistics using the describe() method."
   ]
  },
  {
   "cell_type": "code",
   "execution_count": 3,
   "metadata": {},
   "outputs": [
    {
     "data": {
      "text/html": [
       "<div>\n",
       "<style scoped>\n",
       "    .dataframe tbody tr th:only-of-type {\n",
       "        vertical-align: middle;\n",
       "    }\n",
       "\n",
       "    .dataframe tbody tr th {\n",
       "        vertical-align: top;\n",
       "    }\n",
       "\n",
       "    .dataframe thead th {\n",
       "        text-align: right;\n",
       "    }\n",
       "</style>\n",
       "<table border=\"1\" class=\"dataframe\">\n",
       "  <thead>\n",
       "    <tr style=\"text-align: right;\">\n",
       "      <th></th>\n",
       "      <th>bp_before</th>\n",
       "      <th>bp_after</th>\n",
       "    </tr>\n",
       "  </thead>\n",
       "  <tbody>\n",
       "    <tr>\n",
       "      <th>count</th>\n",
       "      <td>120.000000</td>\n",
       "      <td>120.000000</td>\n",
       "    </tr>\n",
       "    <tr>\n",
       "      <th>mean</th>\n",
       "      <td>156.450000</td>\n",
       "      <td>151.358333</td>\n",
       "    </tr>\n",
       "    <tr>\n",
       "      <th>std</th>\n",
       "      <td>11.389845</td>\n",
       "      <td>14.177622</td>\n",
       "    </tr>\n",
       "    <tr>\n",
       "      <th>min</th>\n",
       "      <td>138.000000</td>\n",
       "      <td>125.000000</td>\n",
       "    </tr>\n",
       "    <tr>\n",
       "      <th>25%</th>\n",
       "      <td>147.000000</td>\n",
       "      <td>140.750000</td>\n",
       "    </tr>\n",
       "    <tr>\n",
       "      <th>50%</th>\n",
       "      <td>154.500000</td>\n",
       "      <td>149.500000</td>\n",
       "    </tr>\n",
       "    <tr>\n",
       "      <th>75%</th>\n",
       "      <td>164.000000</td>\n",
       "      <td>161.000000</td>\n",
       "    </tr>\n",
       "    <tr>\n",
       "      <th>max</th>\n",
       "      <td>185.000000</td>\n",
       "      <td>185.000000</td>\n",
       "    </tr>\n",
       "  </tbody>\n",
       "</table>\n",
       "</div>"
      ],
      "text/plain": [
       "        bp_before    bp_after\n",
       "count  120.000000  120.000000\n",
       "mean   156.450000  151.358333\n",
       "std     11.389845   14.177622\n",
       "min    138.000000  125.000000\n",
       "25%    147.000000  140.750000\n",
       "50%    154.500000  149.500000\n",
       "75%    164.000000  161.000000\n",
       "max    185.000000  185.000000"
      ]
     },
     "execution_count": 3,
     "metadata": {},
     "output_type": "execute_result"
    }
   ],
   "source": [
    "df[['bp_before','bp_after']].describe()\n"
   ]
  },
  {
   "cell_type": "markdown",
   "metadata": {},
   "source": [
    "Looks like the treatment has been succesfull as mean for blood presure after the treatment is lower the before."
   ]
  },
  {
   "cell_type": "code",
   "execution_count": 4,
   "metadata": {},
   "outputs": [
    {
     "data": {
      "text/plain": [
       "<AxesSubplot:>"
      ]
     },
     "execution_count": 4,
     "metadata": {},
     "output_type": "execute_result"
    },
    {
     "data": {
      "image/png": "[encoded data removed]",
      "text/plain": [
       "<Figure size 576x432 with 1 Axes>"
      ]
     },
     "metadata": {
      "needs_background": "light"
     },
     "output_type": "display_data"
    }
   ],
   "source": [
    "#importing packages for plotting\n",
    "import seaborn as sns\n",
    "import matplotlib.pyplot as plt\n",
    "# This just sets the default plot size to be bigger.\n",
    "plt.rcParams['figure.figsize'] = (8, 6)\n",
    "\n",
    "# Creating boxplot to compare blood pressure before and after treatment\n",
    "sns.boxplot(data=df[['bp_before','bp_after']])"
   ]
  },
  {
   "cell_type": "markdown",
   "metadata": {},
   "source": [
    "From the above plot it appears that there are no significant outliers in the variables. Next, let's test that the data came from a normal distribution. We going to create two histograms"
   ]
  },
  {
   "cell_type": "code",
   "execution_count": 5,
   "metadata": {},
   "outputs": [
    {
     "data": {
      "text/plain": [
       "<AxesSubplot:ylabel='Count'>"
      ]
     },
     "execution_count": 5,
     "metadata": {},
     "output_type": "execute_result"
    },
    {
     "data": {
      "image/png": "[encoded data removed]",
      "text/plain": [
       "<Figure size 1152x432 with 2 Axes>"
      ]
     },
     "metadata": {
      "needs_background": "light"
     },
     "output_type": "display_data"
    }
   ],
   "source": [
    "plt.rcParams[\"figure.figsize\"] = (16,6)\n",
    "fig, ax =plt.subplots(1,2)\n",
    "\n",
    "sns.histplot(data=df[['bp_before']], bins=10, kde=True, ax=ax[0])\n",
    "sns.histplot(data=df[['bp_after']], bins=10, palette=\"rocket\", kde=True, ax=ax[1])\n"
   ]
  },
  {
   "cell_type": "markdown",
   "metadata": {},
   "source": [
    "The histograms of our data does not seem to be normally distributed. There looks to be some skew. We can try to test this statistically to see if the data is normally distributed. We can use the [Shapiro-Wilk test](https://en.wikipedia.org/wiki/Shapiro%E2%80%93Wilk_test) for normality. \n",
    "\n",
    "The Shapiro-Wilk test is a statistical test used to check if a continuous variable follows a normal distribution. The null hypothesis (H0) states that the variable is normally distributed, and the alternative hypothesis (H1) states that the variable is NOT normally distributed. So after running this test: If p ≤ 0.05: then the null hypothesis can be rejected (i.e. the variable is NOT normally distributed). If p > 0.05: then the null hypothesis cannot be rejected (i.e. the variable MAY BE normally distributed). [7]"
   ]
  },
  {
   "cell_type": "markdown",
   "metadata": {},
   "source": [
    "The below taken from https://docs.scipy.org/doc/scipy/reference/generated/scipy.stats.shapiro.html\n",
    "\n",
    "`scipy.stats.shapiro(x)`<br>\n",
    "\n",
    "**Parameters**<br>\n",
    "    x: Array of sample data. <br>\n",
    "    \n",
    "**Returns**<br>\n",
    "    statistic: The test statistic.<br>\n",
    "    p-value: The p-value for the hypothesis test.\n"
   ]
  },
  {
   "cell_type": "code",
   "execution_count": 6,
   "metadata": {},
   "outputs": [
    {
     "data": {
      "text/plain": [
       "ShapiroResult(statistic=0.9547787308692932, pvalue=0.0004928423441015184)"
      ]
     },
     "execution_count": 6,
     "metadata": {},
     "output_type": "execute_result"
    }
   ],
   "source": [
    "from scipy import stats\n",
    "stats.shapiro(df['bp_before'])"
   ]
  },
  {
   "cell_type": "code",
   "execution_count": 7,
   "metadata": {},
   "outputs": [
    {
     "data": {
      "text/plain": [
       "ShapiroResult(statistic=0.9740639328956604, pvalue=0.020227791741490364)"
      ]
     },
     "execution_count": 7,
     "metadata": {},
     "output_type": "execute_result"
    }
   ],
   "source": [
    "stats.shapiro(df['bp_after'])"
   ]
  },
  {
   "cell_type": "markdown",
   "metadata": {},
   "source": [
    "Both of the variables violate the assumption of normality by a large amount. Therefore, one should use a different test to analyze this data. However, for demonstration purposes, we shall continue with using the paired sample t-test. Note, that the findings from this analysis should not be considered valid due to the large violation of the assumption about normality."
   ]
  },
  {
   "cell_type": "markdown",
   "metadata": {},
   "source": [
    "To conduct the paired sample t-test, one needs to use the `stats.ttest_rel()` method. Can be found: https://docs.scipy.org/doc/scipy/reference/generated/scipy.stats.ttest_rel.html"
   ]
  },
  {
   "cell_type": "code",
   "execution_count": 8,
   "metadata": {},
   "outputs": [
    {
     "data": {
      "text/plain": [
       "Ttest_relResult(statistic=3.3371870510833657, pvalue=0.0011297914644840823)"
      ]
     },
     "execution_count": 8,
     "metadata": {},
     "output_type": "execute_result"
    }
   ],
   "source": [
    "ttest_results = stats.ttest_rel(df['bp_before'], df['bp_after'])\n",
    "ttest_results"
   ]
  },
  {
   "cell_type": "markdown",
   "metadata": {},
   "source": [
    "The findings are statistically significant which means we can reject the null hypothesis in support of the alternative.\n",
    "\n",
    "Another component needed to report the findings is the degrees of freedom (df). This can be calculated by taking the total number of paired observations and subtracting 1. In our case, df = 120 – 1 = 119.\n",
    "\n",
    "#### Results\n",
    "\n",
    "A paired sample t-test was used to analyze the blood pressure before and after the intervention to test if the intervention had a significant affect on the blood pressure. The blood pressure before the intervention was higher with mean of 156.45 and standard deviation 11.39 units compared to the blood pressure post intervention 151.36 ± 14.18 units. There was a statistically significant decrease in blood pressure (t(119)=3.34, p= 0.0011) of 5.09 units.\n",
    "\n",
    "Note: As one of the assumptions(normality) for t-test is violated, results should not be trusted. Data should be analyzed using Wilcoxon signed-rank Test. [6]"
   ]
  },
  {
   "cell_type": "markdown",
   "metadata": {},
   "source": [
    "#### Example 2\n",
    "Let's take another example and see how student's score changed after online tutorial. We will use `students` data set for this. First we import it to pandas dataframe by using `read_csv` method and then have a look at it"
   ]
  },
  {
   "cell_type": "code",
   "execution_count": 9,
   "metadata": {},
   "outputs": [
    {
     "name": "stdout",
     "output_type": "stream",
     "text": [
      "<class 'pandas.core.frame.DataFrame'>\n",
      "Int64Index: 8239 entries, 1 to 8239\n",
      "Data columns (total 16 columns):\n",
      " #   Column           Non-Null Count  Dtype  \n",
      "---  ------           --------------  -----  \n",
      " 0   stud.id          8239 non-null   int64  \n",
      " 1   name             8239 non-null   object \n",
      " 2   gender           8239 non-null   object \n",
      " 3   age              8239 non-null   int64  \n",
      " 4   height           8239 non-null   int64  \n",
      " 5   weight           8239 non-null   float64\n",
      " 6   religion         8239 non-null   object \n",
      " 7   nc.score         8239 non-null   float64\n",
      " 8   semester         8239 non-null   object \n",
      " 9   major            8239 non-null   object \n",
      " 10  minor            8239 non-null   object \n",
      " 11  score1           4892 non-null   float64\n",
      " 12  score2           4892 non-null   float64\n",
      " 13  online.tutorial  8239 non-null   int64  \n",
      " 14  graduated        8239 non-null   int64  \n",
      " 15  salary           1753 non-null   float64\n",
      "dtypes: float64(5), int64(5), object(6)\n",
      "memory usage: 1.1+ MB\n"
     ]
    }
   ],
   "source": [
    "import pandas as pd\n",
    "import numpy as np\n",
    "\n",
    "# taken from https://userpage.fu-berlin.de/soga/data/raw-data/students.csv\n",
    "students = pd.read_csv(\"data/students.csv\")\n",
    "students.info()"
   ]
  },
  {
   "cell_type": "markdown",
   "metadata": {},
   "source": [
    "We can see that it consists of 8239 rows, each representing a particular student, and 16 columns corresponding to a variable/feature related to that particular student"
   ]
  },
  {
   "cell_type": "code",
   "execution_count": 10,
   "metadata": {},
   "outputs": [
    {
     "data": {
      "text/html": [
       "<div>\n",
       "<style scoped>\n",
       "    .dataframe tbody tr th:only-of-type {\n",
       "        vertical-align: middle;\n",
       "    }\n",
       "\n",
       "    .dataframe tbody tr th {\n",
       "        vertical-align: top;\n",
       "    }\n",
       "\n",
       "    .dataframe thead th {\n",
       "        text-align: right;\n",
       "    }\n",
       "</style>\n",
       "<table border=\"1\" class=\"dataframe\">\n",
       "  <thead>\n",
       "    <tr style=\"text-align: right;\">\n",
       "      <th></th>\n",
       "      <th>stud.id</th>\n",
       "      <th>name</th>\n",
       "      <th>gender</th>\n",
       "      <th>age</th>\n",
       "      <th>height</th>\n",
       "      <th>weight</th>\n",
       "      <th>religion</th>\n",
       "      <th>nc.score</th>\n",
       "      <th>semester</th>\n",
       "      <th>major</th>\n",
       "      <th>minor</th>\n",
       "      <th>score1</th>\n",
       "      <th>score2</th>\n",
       "      <th>online.tutorial</th>\n",
       "      <th>graduated</th>\n",
       "      <th>salary</th>\n",
       "    </tr>\n",
       "  </thead>\n",
       "  <tbody>\n",
       "    <tr>\n",
       "      <th>1</th>\n",
       "      <td>833917</td>\n",
       "      <td>Gonzales, Christina</td>\n",
       "      <td>Female</td>\n",
       "      <td>19</td>\n",
       "      <td>160</td>\n",
       "      <td>64.8</td>\n",
       "      <td>Muslim</td>\n",
       "      <td>1.91</td>\n",
       "      <td>1st</td>\n",
       "      <td>Political Science</td>\n",
       "      <td>Social Sciences</td>\n",
       "      <td>NaN</td>\n",
       "      <td>NaN</td>\n",
       "      <td>0</td>\n",
       "      <td>0</td>\n",
       "      <td>NaN</td>\n",
       "    </tr>\n",
       "    <tr>\n",
       "      <th>2</th>\n",
       "      <td>898539</td>\n",
       "      <td>Lozano, T'Hani</td>\n",
       "      <td>Female</td>\n",
       "      <td>19</td>\n",
       "      <td>172</td>\n",
       "      <td>73.0</td>\n",
       "      <td>Other</td>\n",
       "      <td>1.56</td>\n",
       "      <td>2nd</td>\n",
       "      <td>Social Sciences</td>\n",
       "      <td>Mathematics and Statistics</td>\n",
       "      <td>NaN</td>\n",
       "      <td>NaN</td>\n",
       "      <td>0</td>\n",
       "      <td>0</td>\n",
       "      <td>NaN</td>\n",
       "    </tr>\n",
       "    <tr>\n",
       "      <th>3</th>\n",
       "      <td>379678</td>\n",
       "      <td>Williams, Hanh</td>\n",
       "      <td>Female</td>\n",
       "      <td>22</td>\n",
       "      <td>168</td>\n",
       "      <td>70.6</td>\n",
       "      <td>Protestant</td>\n",
       "      <td>1.24</td>\n",
       "      <td>3rd</td>\n",
       "      <td>Social Sciences</td>\n",
       "      <td>Mathematics and Statistics</td>\n",
       "      <td>45.0</td>\n",
       "      <td>46.0</td>\n",
       "      <td>0</td>\n",
       "      <td>0</td>\n",
       "      <td>NaN</td>\n",
       "    </tr>\n",
       "    <tr>\n",
       "      <th>4</th>\n",
       "      <td>807564</td>\n",
       "      <td>Nem, Denzel</td>\n",
       "      <td>Male</td>\n",
       "      <td>19</td>\n",
       "      <td>183</td>\n",
       "      <td>79.7</td>\n",
       "      <td>Other</td>\n",
       "      <td>1.37</td>\n",
       "      <td>2nd</td>\n",
       "      <td>Environmental Sciences</td>\n",
       "      <td>Mathematics and Statistics</td>\n",
       "      <td>NaN</td>\n",
       "      <td>NaN</td>\n",
       "      <td>0</td>\n",
       "      <td>0</td>\n",
       "      <td>NaN</td>\n",
       "    </tr>\n",
       "    <tr>\n",
       "      <th>5</th>\n",
       "      <td>383291</td>\n",
       "      <td>Powell, Heather</td>\n",
       "      <td>Female</td>\n",
       "      <td>21</td>\n",
       "      <td>175</td>\n",
       "      <td>71.4</td>\n",
       "      <td>Catholic</td>\n",
       "      <td>1.46</td>\n",
       "      <td>1st</td>\n",
       "      <td>Environmental Sciences</td>\n",
       "      <td>Mathematics and Statistics</td>\n",
       "      <td>NaN</td>\n",
       "      <td>NaN</td>\n",
       "      <td>0</td>\n",
       "      <td>0</td>\n",
       "      <td>NaN</td>\n",
       "    </tr>\n",
       "  </tbody>\n",
       "</table>\n",
       "</div>"
      ],
      "text/plain": [
       "   stud.id                 name  gender  age  height  weight    religion  \\\n",
       "1   833917  Gonzales, Christina  Female   19     160    64.8      Muslim   \n",
       "2   898539       Lozano, T'Hani  Female   19     172    73.0       Other   \n",
       "3   379678       Williams, Hanh  Female   22     168    70.6  Protestant   \n",
       "4   807564          Nem, Denzel    Male   19     183    79.7       Other   \n",
       "5   383291      Powell, Heather  Female   21     175    71.4    Catholic   \n",
       "\n",
       "   nc.score semester                   major                       minor  \\\n",
       "1      1.91      1st       Political Science             Social Sciences   \n",
       "2      1.56      2nd         Social Sciences  Mathematics and Statistics   \n",
       "3      1.24      3rd         Social Sciences  Mathematics and Statistics   \n",
       "4      1.37      2nd  Environmental Sciences  Mathematics and Statistics   \n",
       "5      1.46      1st  Environmental Sciences  Mathematics and Statistics   \n",
       "\n",
       "   score1  score2  online.tutorial  graduated  salary  \n",
       "1     NaN     NaN                0          0     NaN  \n",
       "2     NaN     NaN                0          0     NaN  \n",
       "3    45.0    46.0                0          0     NaN  \n",
       "4     NaN     NaN                0          0     NaN  \n",
       "5     NaN     NaN                0          0     NaN  "
      ]
     },
     "execution_count": 10,
     "metadata": {},
     "output_type": "execute_result"
    }
   ],
   "source": [
    "students.head()"
   ]
  },
  {
   "cell_type": "markdown",
   "metadata": {},
   "source": [
    "In this example we’re are interested in three variables from our dataset: score1, score2, and online.tutorial.\n",
    "\n",
    "We want to know if there is there any difference between the students’ grades before and after taking an online learning tutorial? And if this tutorial actually helps the students to improve their exam’s grades?"
   ]
  },
  {
   "cell_type": "code",
   "execution_count": 11,
   "metadata": {},
   "outputs": [
    {
     "data": {
      "text/html": [
       "<div>\n",
       "<style scoped>\n",
       "    .dataframe tbody tr th:only-of-type {\n",
       "        vertical-align: middle;\n",
       "    }\n",
       "\n",
       "    .dataframe tbody tr th {\n",
       "        vertical-align: top;\n",
       "    }\n",
       "\n",
       "    .dataframe thead th {\n",
       "        text-align: right;\n",
       "    }\n",
       "</style>\n",
       "<table border=\"1\" class=\"dataframe\">\n",
       "  <thead>\n",
       "    <tr style=\"text-align: right;\">\n",
       "      <th></th>\n",
       "      <th>online.tutorial</th>\n",
       "      <th>score1</th>\n",
       "      <th>score2</th>\n",
       "    </tr>\n",
       "  </thead>\n",
       "  <tbody>\n",
       "    <tr>\n",
       "      <th>count</th>\n",
       "      <td>8239.000000</td>\n",
       "      <td>4892.000000</td>\n",
       "      <td>4892.000000</td>\n",
       "    </tr>\n",
       "    <tr>\n",
       "      <th>mean</th>\n",
       "      <td>0.386212</td>\n",
       "      <td>68.164963</td>\n",
       "      <td>69.494685</td>\n",
       "    </tr>\n",
       "    <tr>\n",
       "      <th>std</th>\n",
       "      <td>0.486910</td>\n",
       "      <td>14.051762</td>\n",
       "      <td>14.395251</td>\n",
       "    </tr>\n",
       "    <tr>\n",
       "      <th>min</th>\n",
       "      <td>0.000000</td>\n",
       "      <td>30.000000</td>\n",
       "      <td>31.000000</td>\n",
       "    </tr>\n",
       "    <tr>\n",
       "      <th>25%</th>\n",
       "      <td>0.000000</td>\n",
       "      <td>58.000000</td>\n",
       "      <td>59.000000</td>\n",
       "    </tr>\n",
       "    <tr>\n",
       "      <th>50%</th>\n",
       "      <td>0.000000</td>\n",
       "      <td>70.000000</td>\n",
       "      <td>71.000000</td>\n",
       "    </tr>\n",
       "    <tr>\n",
       "      <th>75%</th>\n",
       "      <td>1.000000</td>\n",
       "      <td>78.000000</td>\n",
       "      <td>80.000000</td>\n",
       "    </tr>\n",
       "    <tr>\n",
       "      <th>max</th>\n",
       "      <td>1.000000</td>\n",
       "      <td>97.000000</td>\n",
       "      <td>98.000000</td>\n",
       "    </tr>\n",
       "  </tbody>\n",
       "</table>\n",
       "</div>"
      ],
      "text/plain": [
       "       online.tutorial       score1       score2\n",
       "count      8239.000000  4892.000000  4892.000000\n",
       "mean          0.386212    68.164963    69.494685\n",
       "std           0.486910    14.051762    14.395251\n",
       "min           0.000000    30.000000    31.000000\n",
       "25%           0.000000    58.000000    59.000000\n",
       "50%           0.000000    70.000000    71.000000\n",
       "75%           1.000000    78.000000    80.000000\n",
       "max           1.000000    97.000000    98.000000"
      ]
     },
     "execution_count": 11,
     "metadata": {},
     "output_type": "execute_result"
    }
   ],
   "source": [
    "students[['online.tutorial','score1', 'score2']].describe()"
   ]
  },
  {
   "cell_type": "markdown",
   "metadata": {},
   "source": [
    "From the first glance at the data we can determine that\n",
    " - `score1` and `score2` are the grades for two exams on mathematics and statistics (min score1 was 30, and max score2 was 98). We presume that the first exam takes place before the students attended the online statistics learning tutorial. However not all the students attendet the tutorial as it sin't mandatory.\n",
    " - variable `online.tutorial` is a binary. It is equal to 1 if the student completed the online statistics learning tutorial, or 0 otherwise.\n",
    " \n",
    "**Data Preparation**\n",
    "\n",
    "Let's beging with checking if grades of the students who took the online tutorial has improved.\n",
    "To do that we need to take a subset of our dataset based on the variable `online.tutorial`. As we are interested in students who attended the tutorial, it should be equal to 1. Next, we take a random sample of 100 students from the dataset and extract the two variables of interest, score1 and score2. We will store the sample as dataframe object called sample."
   ]
  },
  {
   "cell_type": "code",
   "execution_count": 27,
   "metadata": {},
   "outputs": [],
   "source": [
    "n = 100\n",
    "\n",
    "# getting subset where online.tutorial=1\n",
    "subset = students.loc[students[\"online.tutorial\"] == 1]\n",
    "\n",
    "# using sample() method to get a random sample of items from an axis of objectthe subset above. \n",
    "# random_state - seed for random number generator.\n",
    "sample = subset.sample(n, random_state = 7)[[\"score1\", \"score2\"]]"
   ]
  },
  {
   "cell_type": "markdown",
   "metadata": {},
   "source": [
    "Now, that we have our sample of students who took online tutorial, we going to compute the paired defferences between score1 and score2 and plot them, using the barplot."
   ]
  },
  {
   "cell_type": "code",
   "execution_count": 37,
   "metadata": {},
   "outputs": [
    {
     "data": {
      "image/png": "[encoded data removed]",
      "text/plain": [
       "<Figure size 864x576 with 1 Axes>"
      ]
     },
     "metadata": {
      "needs_background": "light"
     },
     "output_type": "display_data"
    }
   ],
   "source": [
    "import matplotlib.pyplot as plt\n",
    "import seaborn as sns\n",
    "\n",
    "# Setting size of the plot\n",
    "plt.figure(figsize=(12,8))\n",
    "\n",
    "# Calculating paired differnces\n",
    "d = sample[\"score1\"] - sample[\"score2\"]\n",
    "\n",
    "# Constructing DataFrame from a dictionary\n",
    "data = pd.DataFrame({'index' : np.arange(1, 101),\n",
    "                     'Paired differences'  : d},\n",
    "                    columns = ['index', 'Paired differences'])\n",
    "# Plotting\n",
    "sns.barplot(data = data, x = \"index\", y = \"Paired differences\", color = \"lightblue\")\n",
    "plt.axhline(y = 0, color = \"orangered\")\n",
    "\n",
    "# Getting current Axes\n",
    "ax = plt.gca()\n",
    "ax.set_title(\"Paired differences in exam scores \")\n",
    "# Setting x-axis to not visible\n",
    "ax.get_xaxis().set_visible(False)"
   ]
  },
  {
   "cell_type": "markdown",
   "metadata": {},
   "source": [
    "From the plot above we can see as we expected, some students performed better on the first test and some on the second.\n",
    "\n",
    "Next, we want to check the normality assumption. There are few ways to do so, but this time we going to use a visual inspection and create a [Q-Q plot](https://en.wikipedia.org/wiki/Q–Q_plot). If the data is normally distributed the graph should be roughly linear. We can use [scipy.stats.probplot](https://docs.scipy.org/doc/scipy/reference/generated/scipy.stats.probplot.html) for this"
   ]
  },
  {
   "cell_type": "code",
   "execution_count": 32,
   "metadata": {},
   "outputs": [
    {
     "data": {
      "text/plain": [
       "<Figure size 1008x576 with 0 Axes>"
      ]
     },
     "metadata": {},
     "output_type": "display_data"
    },
    {
     "data": {
      "image/png": "[encoded data removed]",
      "text/plain": [
       "<Figure size 1152x432 with 1 Axes>"
      ]
     },
     "metadata": {
      "needs_background": "light"
     },
     "output_type": "display_data"
    }
   ],
   "source": [
    "import scipy.stats as ss\n",
    "# Setting size of the plot\n",
    "plt.figure(figsize=(14,8))\n",
    "fig, ax = plt.subplots()\n",
    "\n",
    "# Calculating quantiles for a probability plot\n",
    "qq = ss.probplot(d, dist=\"norm\", plot = plt)\n",
    "ax.set_title(\"Q-Q plot for differences in exam scores \")\n",
    "ax.set_ylabel(\"Sample quantiles\")\n",
    "plt.show()"
   ]
  },
  {
   "cell_type": "markdown",
   "metadata": {},
   "source": [
    "Even though not all the data lays on the straight line and there is some noise, especially in the lower and upper part, we can still consider it to be roughly normally distributed.\n",
    "\n",
    "We can calculate the mean of the paired differences $\\bar{d}$ by:"
   ]
  },
  {
   "cell_type": "markdown",
   "metadata": {},
   "source": [
    "\n",
    "\\begin{equation*}\n",
    "\\bar{d} = \\frac{\\sum d} {n}\n",
    "\\end{equation*}"
   ]
  },
  {
   "cell_type": "code",
   "execution_count": 38,
   "metadata": {},
   "outputs": [
    {
     "data": {
      "text/plain": [
       "-2.74"
      ]
     },
     "execution_count": 38,
     "metadata": {},
     "output_type": "execute_result"
    }
   ],
   "source": [
    "diff_mean = np.mean(d)\n",
    "diff_mean"
   ]
  },
  {
   "cell_type": "code",
   "execution_count": null,
   "metadata": {},
   "outputs": [],
   "source": []
  },
  {
   "cell_type": "code",
   "execution_count": null,
   "metadata": {},
   "outputs": [],
   "source": []
  },
  {
   "cell_type": "code",
   "execution_count": null,
   "metadata": {},
   "outputs": [],
   "source": []
  },
  {
   "cell_type": "code",
   "execution_count": null,
   "metadata": {},
   "outputs": [],
   "source": []
  },
  {
   "cell_type": "code",
   "execution_count": null,
   "metadata": {},
   "outputs": [],
   "source": []
  },
  {
   "cell_type": "markdown",
   "metadata": {},
   "source": [
    "## Conclusion\n",
    "***\n",
    "In conclusion, a paired sample t-test is an effective statistical test used to compare the means of two samples. It should be used whenever you wish to determine if there is a statistically significant difference between two related or paired groups. The assumptions for this type of analysis must be met in order to get reliable and accurate results. This includes observations within the two samples being related or paired in a meaningful way, all observations being independent of each other, data normally distributed with similar variances and means, and equal sample sizes. With these assumptions in mind, a paired sample t-test can provide reliable and accurate results."
   ]
  },
  {
   "cell_type": "code",
   "execution_count": null,
   "metadata": {},
   "outputs": [],
   "source": []
  },
  {
   "cell_type": "code",
   "execution_count": null,
   "metadata": {},
   "outputs": [],
   "source": []
  },
  {
   "cell_type": "code",
   "execution_count": null,
   "metadata": {},
   "outputs": [],
   "source": []
  },
  {
   "cell_type": "markdown",
   "metadata": {},
   "source": [
    "## References\n",
    "\n",
    "1. https://docs.scipy.org/doc/scipy/reference/stats.html#module-scipy.stats <br>\n",
    "2. https://en.wikipedia.org/wiki/Student%27s_t-test  <br>\n",
    "3. https://www.jmp.com/en_nl/statistics-knowledge-portal/t-test.html <br>\n",
    "4. https://thedatascientist.com/how-to-do-a-t-test-in-python/ <br>\n",
    "5. https://www.questionpro.com/blog/paired-samples/\n",
    "6. https://pythonfordatascienceorg.wordpress.com/paired-samples-t-test-python/\n",
    "7. https://www.kaggle.com/code/eisgandar/t-tests-in-python-clearly-explained"
   ]
  },
  {
   "cell_type": "markdown",
   "metadata": {},
   "source": [
    "## End"
   ]
  }
 ],
 "metadata": {
  "kernelspec": {
   "display_name": "Python 3",
   "language": "python",
   "name": "python3"
  },
  "language_info": {
   "codemirror_mode": {
    "name": "ipython",
    "version": 3
   },
   "file_extension": ".py",
   "mimetype": "text/x-python",
   "name": "python",
   "nbconvert_exporter": "python",
   "pygments_lexer": "ipython3",
   "version": "3.8.5"
  }
 },
 "nbformat": 4,
 "nbformat_minor": 4
}
